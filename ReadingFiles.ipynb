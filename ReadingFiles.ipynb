{
 "cells": [
  {
   "cell_type": "code",
   "execution_count": 5,
   "metadata": {},
   "outputs": [
    {
     "name": "stdout",
     "output_type": "stream",
     "text": [
      "done\n"
     ]
    }
   ],
   "source": [
    "#importing pandas as pd\n",
    "# Import writer class from csv module\n",
    "from csv import writer\n",
    "\n",
    "# List\n",
    "List=[1,1,1,0]\n",
    "\n",
    "# Open our existing CSV file in append mode\n",
    "# Create a file object for this file\n",
    "with open('diseaseConfiguration.csv', 'a') as f_object:\n",
    "\n",
    "\t# Pass this file object to csv.writer()\n",
    "\t# and get a writer object\n",
    "\twriter_object = writer(f_object)\n",
    "    \n",
    "\n",
    "\t# Pass the list as an argument into\n",
    "\t# the writerow()\n",
    "\twriter_object.writerow(List)\n",
    "    \n",
    "\n",
    "\t#Close the file object\n",
    "\tf_object.close()\n",
    "print('done')\n"
   ]
  },
  {
   "cell_type": "code",
   "execution_count": null,
   "metadata": {},
   "outputs": [],
   "source": []
  }
 ],
 "metadata": {
  "kernelspec": {
   "display_name": "Python 3 (ipykernel)",
   "language": "python",
   "name": "python3"
  },
  "language_info": {
   "codemirror_mode": {
    "name": "ipython",
    "version": 3
   },
   "file_extension": ".py",
   "mimetype": "text/x-python",
   "name": "python",
   "nbconvert_exporter": "python",
   "pygments_lexer": "ipython3",
   "version": "3.10.4"
  }
 },
 "nbformat": 4,
 "nbformat_minor": 4
}
